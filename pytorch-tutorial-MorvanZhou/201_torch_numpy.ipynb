{
 "cells": [
  {
   "cell_type": "code",
   "execution_count": 1,
   "metadata": {},
   "outputs": [],
   "source": [
    "import torch\n",
    "import numpy as np"
   ]
  },
  {
   "cell_type": "code",
   "execution_count": 2,
   "metadata": {},
   "outputs": [],
   "source": [
    "np_data = np.arange(6).reshape((2, 3))\n",
    "torch_data = torch.from_numpy(np_data)\n",
    "tensor2array = torch_data.numpy()"
   ]
  },
  {
   "cell_type": "code",
   "execution_count": 3,
   "metadata": {},
   "outputs": [
    {
     "data": {
      "text/plain": [
       "array([[0, 1, 2],\n",
       "       [3, 4, 5]])"
      ]
     },
     "execution_count": 3,
     "metadata": {},
     "output_type": "execute_result"
    }
   ],
   "source": [
    "np_data"
   ]
  },
  {
   "cell_type": "code",
   "execution_count": 4,
   "metadata": {},
   "outputs": [
    {
     "data": {
      "text/plain": [
       "tensor([[ 0,  1,  2],\n",
       "        [ 3,  4,  5]])"
      ]
     },
     "execution_count": 4,
     "metadata": {},
     "output_type": "execute_result"
    }
   ],
   "source": [
    "torch_data"
   ]
  },
  {
   "cell_type": "code",
   "execution_count": 5,
   "metadata": {},
   "outputs": [
    {
     "data": {
      "text/plain": [
       "array([[0, 1, 2],\n",
       "       [3, 4, 5]])"
      ]
     },
     "execution_count": 5,
     "metadata": {},
     "output_type": "execute_result"
    }
   ],
   "source": [
    "tensor2array"
   ]
  },
  {
   "cell_type": "code",
   "execution_count": 8,
   "metadata": {},
   "outputs": [
    {
     "name": "stdout",
     "output_type": "stream",
     "text": [
      "\n",
      "umpy array:\n",
      " [[0 1 2]\n",
      " [3 4 5]] \n",
      "torch tensor:\n",
      " tensor([[ 0,  1,  2],\n",
      "        [ 3,  4,  5]]) \n",
      "tensor to array:\n",
      " [[0 1 2]\n",
      " [3 4 5]]\n"
     ]
    }
   ],
   "source": [
    "print(\"\\numpy array:\\n\", np_data,\n",
    "     \"\\ntorch tensor:\\n\", torch_data,\n",
    "     \"\\ntensor to array:\\n\", tensor2array)"
   ]
  },
  {
   "cell_type": "code",
   "execution_count": 9,
   "metadata": {},
   "outputs": [],
   "source": [
    "data = [-1, -2, 1, 2]"
   ]
  },
  {
   "cell_type": "code",
   "execution_count": 10,
   "metadata": {},
   "outputs": [],
   "source": [
    "tensor = torch.FloatTensor(data)"
   ]
  },
  {
   "cell_type": "code",
   "execution_count": 11,
   "metadata": {},
   "outputs": [
    {
     "name": "stdout",
     "output_type": "stream",
     "text": [
      "\n",
      "abs \n",
      "numpy: [1 2 1 2] \n",
      "torch: tensor([ 1.,  2.,  1.,  2.])\n"
     ]
    }
   ],
   "source": [
    "print(\"\\nabs\",\n",
    "     \"\\nnumpy:\", np.abs(data),\n",
    "     \"\\ntorch:\", torch.abs(tensor))"
   ]
  },
  {
   "cell_type": "code",
   "execution_count": 13,
   "metadata": {},
   "outputs": [
    {
     "name": "stdout",
     "output_type": "stream",
     "text": [
      "\n",
      "sin \n",
      "numpy: 0.0 \n",
      "torch: tensor(0.)\n"
     ]
    }
   ],
   "source": [
    "print(\"\\nmean\",\n",
    "     \"\\nnumpy:\", np.mean(data),\n",
    "     \"\\ntorch:\", torch.mean(tensor))"
   ]
  },
  {
   "cell_type": "code",
   "execution_count": 14,
   "metadata": {},
   "outputs": [
    {
     "name": "stdout",
     "output_type": "stream",
     "text": [
      "\n",
      "sin \n",
      "numpy: [-0.84147098 -0.90929743  0.84147098  0.90929743] \n",
      "torch: tensor([-0.8415, -0.9093,  0.8415,  0.9093])\n"
     ]
    }
   ],
   "source": [
    "print(\"\\nsin\",\n",
    "     \"\\nnumpy:\", np.sin(data),\n",
    "     \"\\ntorch:\", np.sin(tensor))"
   ]
  },
  {
   "cell_type": "code",
   "execution_count": 15,
   "metadata": {},
   "outputs": [],
   "source": [
    "# matrix multiplication\n",
    "data = [[1, 2], [3, 4]]\n",
    "tensor = torch.FloatTensor(data)"
   ]
  },
  {
   "cell_type": "code",
   "execution_count": 17,
   "metadata": {},
   "outputs": [
    {
     "name": "stdout",
     "output_type": "stream",
     "text": [
      "\n",
      "matrix multiplication (matmul) \n",
      "numpy:\n",
      " [[ 7 10]\n",
      " [15 22]] \n",
      "torch:\n",
      " tensor([[  7.,  10.],\n",
      "        [ 15.,  22.]])\n"
     ]
    }
   ],
   "source": [
    "print(\"\\nmatrix multiplication (matmul)\",\n",
    "     \"\\nnumpy:\\n\", np.matmul(data, data),\n",
    "     \"\\ntorch:\\n\", torch.mm(tensor, tensor))"
   ]
  },
  {
   "cell_type": "code",
   "execution_count": 18,
   "metadata": {},
   "outputs": [
    {
     "ename": "RuntimeError",
     "evalue": "Expected argument self to have 1 dimension, but has 2",
     "output_type": "error",
     "traceback": [
      "\u001b[0;31m---------------------------------------------------------------------------\u001b[0m",
      "\u001b[0;31mRuntimeError\u001b[0m                              Traceback (most recent call last)",
      "\u001b[0;32m<ipython-input-18-a75d0c2d76dc>\u001b[0m in \u001b[0;36m<module>\u001b[0;34m()\u001b[0m\n\u001b[1;32m      3\u001b[0m print(\"\\nmatrix multiplication (dot)\",\n\u001b[1;32m      4\u001b[0m      \u001b[0;34m\"\\nnumpy:\"\u001b[0m\u001b[0;34m,\u001b[0m \u001b[0mdata\u001b[0m\u001b[0;34m.\u001b[0m\u001b[0mdot\u001b[0m\u001b[0;34m(\u001b[0m\u001b[0mdata\u001b[0m\u001b[0;34m)\u001b[0m\u001b[0;34m,\u001b[0m\u001b[0;34m\u001b[0m\u001b[0m\n\u001b[0;32m----> 5\u001b[0;31m      \"\\ntorch:\", tensor.dot(tensor))\n\u001b[0m",
      "\u001b[0;31mRuntimeError\u001b[0m: Expected argument self to have 1 dimension, but has 2"
     ]
    }
   ],
   "source": [
    "# incorrect method\n",
    "data = np.array(data)\n",
    "print(\"\\nmatrix multiplication (dot)\",\n",
    "     \"\\nnumpy:\", data.dot(data),\n",
    "     \"\\ntorch:\", tensor.dot(tensor))"
   ]
  },
  {
   "cell_type": "code",
   "execution_count": null,
   "metadata": {},
   "outputs": [],
   "source": []
  }
 ],
 "metadata": {
  "kernelspec": {
   "display_name": "Python 3",
   "language": "python",
   "name": "python3"
  },
  "language_info": {
   "codemirror_mode": {
    "name": "ipython",
    "version": 3
   },
   "file_extension": ".py",
   "mimetype": "text/x-python",
   "name": "python",
   "nbconvert_exporter": "python",
   "pygments_lexer": "ipython3",
   "version": "3.5.2"
  }
 },
 "nbformat": 4,
 "nbformat_minor": 2
}
