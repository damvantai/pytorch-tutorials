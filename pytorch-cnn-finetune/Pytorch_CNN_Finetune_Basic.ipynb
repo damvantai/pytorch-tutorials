{
 "cells": [
  {
   "cell_type": "code",
   "execution_count": 1,
   "metadata": {},
   "outputs": [
    {
     "name": "stderr",
     "output_type": "stream",
     "text": [
      "Downloading: \"https://download.pytorch.org/models/resnet18-5c106cde.pth\" to /home/damvantai/.torch/models/resnet18-5c106cde.pth\n",
      "100%|██████████| 46827520/46827520 [00:29<00:00, 1590735.44it/s]\n"
     ]
    }
   ],
   "source": [
    "from cnn_finetune import make_model\n",
    "model = make_model('resnet18', num_classes=10, pretrained=True)"
   ]
  },
  {
   "cell_type": "code",
   "execution_count": 2,
   "metadata": {},
   "outputs": [
    {
     "name": "stderr",
     "output_type": "stream",
     "text": [
      "Downloading: \"http://data.lip6.fr/cadene/pretrainedmodels/nasnetalarge-a1897284.pth\" to /home/damvantai/.torch/models/nasnetalarge-a1897284.pth\n",
      "100%|██████████| 356056626/356056626 [03:56<00:00, 1508007.55it/s]\n"
     ]
    }
   ],
   "source": [
    "model = make_model('nasnetalarge', num_classes=10, pretrained=True, dropout_p=0.5)"
   ]
  },
  {
   "cell_type": "code",
   "execution_count": 5,
   "metadata": {},
   "outputs": [
    {
     "name": "stderr",
     "output_type": "stream",
     "text": [
      "Downloading: \"https://download.pytorch.org/models/vgg16-397923af.pth\" to /home/damvantai/.torch/models/vgg16-397923af.pth\n",
      "100%|██████████| 553433881/553433881 [01:14<00:00, 7382336.06it/s]\n"
     ]
    }
   ],
   "source": [
    "model = make_model('vgg16', num_classes=10, pretrained=True, input_size=(256, 256))"
   ]
  },
  {
   "cell_type": "code",
   "execution_count": 6,
   "metadata": {},
   "outputs": [],
   "source": [
    "import torch.nn as nn"
   ]
  },
  {
   "cell_type": "code",
   "execution_count": 7,
   "metadata": {},
   "outputs": [],
   "source": [
    "def make_classifier(in_features, num_classes):\n",
    "    return nn.Sequential(nn.Linear(in_features, 4096),\n",
    "                        nn.ReLU(inplace=True),\n",
    "                        nn.Linear(4096, num_classes),)"
   ]
  },
  {
   "cell_type": "code",
   "execution_count": null,
   "metadata": {},
   "outputs": [],
   "source": [
    "model = make_model('vgg16', n)"
   ]
  }
 ],
 "metadata": {
  "kernelspec": {
   "display_name": "Python 3",
   "language": "python",
   "name": "python3"
  },
  "language_info": {
   "codemirror_mode": {
    "name": "ipython",
    "version": 3
   },
   "file_extension": ".py",
   "mimetype": "text/x-python",
   "name": "python",
   "nbconvert_exporter": "python",
   "pygments_lexer": "ipython3",
   "version": "3.6.5"
  }
 },
 "nbformat": 4,
 "nbformat_minor": 2
}
