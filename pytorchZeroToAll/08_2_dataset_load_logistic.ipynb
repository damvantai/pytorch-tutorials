{
 "cells": [
  {
   "cell_type": "code",
   "execution_count": 3,
   "metadata": {},
   "outputs": [],
   "source": [
    "import torch\n",
    "import numpy as np\n",
    "from torch.autograd import Variable\n",
    "from torch.utils.data import Dataset, DataLoader"
   ]
  },
  {
   "cell_type": "code",
   "execution_count": null,
   "metadata": {},
   "outputs": [],
   "source": []
  },
  {
   "cell_type": "code",
   "execution_count": null,
   "metadata": {},
   "outputs": [],
   "source": []
  },
  {
   "cell_type": "code",
   "execution_count": 4,
   "metadata": {},
   "outputs": [],
   "source": [
    "class DiabetesDataset(Dataset):\n",
    "    \n",
    "    def __init__(self):\n",
    "        xy = np.loadtxt(\"./data/diabetes.csv.gz\", delimiter=',', dtype=np.float32)\n",
    "        self.len = xy.shape[0]\n",
    "        self.x_data = torch.from_numpy(xy[:, 0:-1])\n",
    "        self.y_data = torch.from_numpy(xy[:, [-1]])\n",
    "        \n",
    "    def __getitem__(self, index):\n",
    "        return self.x_data[index], self.y_data[index]\n",
    "    \n",
    "    def __len__(self):\n",
    "        return self.len"
   ]
  },
  {
   "cell_type": "code",
   "execution_count": 5,
   "metadata": {},
   "outputs": [],
   "source": [
    "dataset = DiabetesDataset()\n",
    "train_loader = DataLoader(dataset=dataset,\n",
    "                         batch_size=32,\n",
    "                         shuffle=True,\n",
    "                         num_workers=2)"
   ]
  },
  {
   "cell_type": "code",
   "execution_count": 6,
   "metadata": {},
   "outputs": [],
   "source": [
    "class Model(torch.nn.Module):\n",
    "    def __init__(self):\n",
    "        super(Model, self).__init__()\n",
    "        self.l1 = torch.nn.Linear(8, 6)\n",
    "        self.l2 = torch.nn.Linear(6, 4)\n",
    "        self.l3 = torch.nn.Linear(4, 1)\n",
    "        \n",
    "        self.sigmoid = torch.nn.Sigmoid()\n",
    "        \n",
    "    def forward(self, x):\n",
    "        out1 = self.sigmoid(self.l1(x))\n",
    "        out2 = self.sigmoid(self.l2(out1))\n",
    "        y_pred = self.sigmoid(self.l3(out2))\n",
    "        return y_pred"
   ]
  },
  {
   "cell_type": "code",
   "execution_count": 7,
   "metadata": {},
   "outputs": [],
   "source": [
    "model = Model()"
   ]
  },
  {
   "cell_type": "code",
   "execution_count": 8,
   "metadata": {},
   "outputs": [],
   "source": [
    "criterion = torch.nn.BCELoss(size_average=True)\n",
    "optimizer = torch.optim.SGD(model.parameters(), lr=0.1)"
   ]
  },
  {
   "cell_type": "code",
   "execution_count": 9,
   "metadata": {},
   "outputs": [
    {
     "name": "stdout",
     "output_type": "stream",
     "text": [
      "0 0 tensor(0.7307)\n",
      "0 1 tensor(0.8913)\n",
      "0 2 tensor(0.7823)\n",
      "0 3 tensor(0.7443)\n",
      "0 4 tensor(0.7470)\n",
      "0 5 tensor(0.7380)\n",
      "0 6 tensor(0.7151)\n",
      "0 7 tensor(0.7451)\n",
      "0 8 tensor(0.7151)\n",
      "0 9 tensor(0.7239)\n",
      "0 10 tensor(0.6986)\n",
      "0 11 tensor(0.7012)\n",
      "0 12 tensor(0.6876)\n",
      "0 13 tensor(0.6803)\n",
      "0 14 tensor(0.6947)\n",
      "0 15 tensor(0.6848)\n",
      "0 16 tensor(0.6799)\n",
      "0 17 tensor(0.6650)\n",
      "0 18 tensor(0.6463)\n",
      "0 19 tensor(0.6419)\n",
      "0 20 tensor(0.6511)\n",
      "0 21 tensor(0.6669)\n",
      "0 22 tensor(0.7051)\n",
      "0 23 tensor(0.6463)\n"
     ]
    },
    {
     "name": "stderr",
     "output_type": "stream",
     "text": [
      "/usr/local/lib/python3.5/dist-packages/ipykernel_launcher.py:10: UserWarning: invalid index of a 0-dim tensor. This will be an error in PyTorch 0.5. Use tensor.item() to convert a 0-dim tensor to a Python number\n",
      "  # Remove the CWD from sys.path while we load stuff.\n"
     ]
    },
    {
     "name": "stdout",
     "output_type": "stream",
     "text": [
      "1 0 tensor(0.6357)\n",
      "1 1 tensor(0.6537)\n",
      "1 2 tensor(0.6984)\n",
      "1 3 tensor(0.6535)\n",
      "1 4 tensor(0.6179)\n",
      "1 5 tensor(0.6628)\n",
      "1 6 tensor(0.5990)\n",
      "1 7 tensor(0.6758)\n",
      "1 8 tensor(0.6480)\n",
      "1 9 tensor(0.6620)\n",
      "1 10 tensor(0.6907)\n",
      "1 11 tensor(0.6202)\n",
      "1 12 tensor(0.7057)\n",
      "1 13 tensor(0.6619)\n",
      "1 14 tensor(0.5908)\n",
      "1 15 tensor(0.6768)\n",
      "1 16 tensor(0.6006)\n",
      "1 17 tensor(0.6130)\n",
      "1 18 tensor(0.6782)\n",
      "1 19 tensor(0.5956)\n",
      "1 20 tensor(0.6791)\n",
      "1 21 tensor(0.6445)\n",
      "1 22 tensor(0.6959)\n",
      "1 23 tensor(0.6470)\n"
     ]
    }
   ],
   "source": [
    "for epoch in range(2):\n",
    "    for i, data in enumerate(train_loader, 0):\n",
    "        inputs, labels = data\n",
    "        \n",
    "        inputs, labels = Variable(inputs), Variable(labels)\n",
    "        \n",
    "        y_pred = model(inputs)\n",
    "        \n",
    "        loss = criterion(y_pred, labels)\n",
    "        print(epoch, i, loss.data[0])\n",
    "        \n",
    "        optimizer.zero_grad()\n",
    "        loss.backward()\n",
    "        optimizer.step()"
   ]
  },
  {
   "cell_type": "code",
   "execution_count": null,
   "metadata": {},
   "outputs": [],
   "source": []
  }
 ],
 "metadata": {
  "kernelspec": {
   "display_name": "Python 3",
   "language": "python",
   "name": "python3"
  },
  "language_info": {
   "codemirror_mode": {
    "name": "ipython",
    "version": 3
   },
   "file_extension": ".py",
   "mimetype": "text/x-python",
   "name": "python",
   "nbconvert_exporter": "python",
   "pygments_lexer": "ipython3",
   "version": "3.5.2"
  }
 },
 "nbformat": 4,
 "nbformat_minor": 2
}
