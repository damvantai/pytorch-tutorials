{
 "cells": [
  {
   "cell_type": "code",
   "execution_count": 1,
   "metadata": {},
   "outputs": [],
   "source": [
    "import torch"
   ]
  },
  {
   "cell_type": "code",
   "execution_count": 2,
   "metadata": {},
   "outputs": [
    {
     "data": {
      "text/plain": [
       "'0.4.0'"
      ]
     },
     "execution_count": 2,
     "metadata": {},
     "output_type": "execute_result"
    }
   ],
   "source": [
    "torch.__version__"
   ]
  },
  {
   "cell_type": "code",
   "execution_count": 3,
   "metadata": {},
   "outputs": [],
   "source": [
    "from torch.autograd import Variable"
   ]
  },
  {
   "cell_type": "code",
   "execution_count": 4,
   "metadata": {},
   "outputs": [],
   "source": [
    "import numpy as np"
   ]
  },
  {
   "cell_type": "code",
   "execution_count": 5,
   "metadata": {},
   "outputs": [],
   "source": [
    "xy = np.loadtxt('./data/diabetes.csv.gz', delimiter=',', dtype=np.float32)"
   ]
  },
  {
   "cell_type": "code",
   "execution_count": 6,
   "metadata": {},
   "outputs": [],
   "source": [
    "x_data = Variable(torch.from_numpy(xy[:, 0: -1]))\n",
    "y_data = Variable(torch.from_numpy(xy[:, [-1]]))"
   ]
  },
  {
   "cell_type": "code",
   "execution_count": 8,
   "metadata": {},
   "outputs": [
    {
     "data": {
      "text/plain": [
       "torch.Size([759, 8])"
      ]
     },
     "execution_count": 8,
     "metadata": {},
     "output_type": "execute_result"
    }
   ],
   "source": [
    "x_data.shape"
   ]
  },
  {
   "cell_type": "code",
   "execution_count": 9,
   "metadata": {},
   "outputs": [
    {
     "data": {
      "text/plain": [
       "torch.Size([759, 1])"
      ]
     },
     "execution_count": 9,
     "metadata": {},
     "output_type": "execute_result"
    }
   ],
   "source": [
    "y_data.shape"
   ]
  },
  {
   "cell_type": "code",
   "execution_count": 10,
   "metadata": {},
   "outputs": [],
   "source": [
    "class Model(torch.nn.Module):\n",
    "    \n",
    "    def __init__(self):\n",
    "        super(Model, self).__init__()\n",
    "        self.l1 = torch.nn.Linear(8, 6)\n",
    "        self.l2 = torch.nn.Linear(6, 4)\n",
    "        self.l3 = torch.nn.Linear(4, 1)\n",
    "        \n",
    "        self.sigmoid = torch.nn.Sigmoid()\n",
    "    \n",
    "    def forward(self, x):\n",
    "        out1 = self.sigmoid(self.l1(x))\n",
    "        out2 = self.sigmoid(self.l2(out1))\n",
    "        y_pred = self.sigmoid(self.l3(out2))\n",
    "        return y_pred"
   ]
  },
  {
   "cell_type": "code",
   "execution_count": 11,
   "metadata": {},
   "outputs": [],
   "source": [
    "model = Model()"
   ]
  },
  {
   "cell_type": "code",
   "execution_count": 12,
   "metadata": {},
   "outputs": [],
   "source": [
    "criterion = torch.nn.BCELoss(size_average=True)\n",
    "optimizer = torch.optim.SGD(model.parameters(), lr=0.1)"
   ]
  },
  {
   "cell_type": "code",
   "execution_count": 13,
   "metadata": {},
   "outputs": [
    {
     "name": "stdout",
     "output_type": "stream",
     "text": [
      "0 tensor(0.6850)\n",
      "1 tensor(0.6808)\n",
      "2 tensor(0.6771)\n",
      "3 tensor(0.6738)\n",
      "4 tensor(0.6708)\n",
      "5 tensor(0.6682)\n",
      "6 tensor(0.6658)\n",
      "7 tensor(0.6637)\n",
      "8 tensor(0.6618)\n",
      "9 tensor(0.6601)\n",
      "10 tensor(0.6585)\n",
      "11 tensor(0.6572)\n",
      "12 tensor(0.6559)\n",
      "13 tensor(0.6548)\n",
      "14 tensor(0.6538)\n",
      "15 tensor(0.6529)\n",
      "16 tensor(0.6521)\n",
      "17 tensor(0.6514)\n",
      "18 tensor(0.6508)\n",
      "19 tensor(0.6502)\n",
      "20 tensor(0.6497)\n",
      "21 tensor(0.6492)\n",
      "22 tensor(0.6488)\n",
      "23 tensor(0.6484)\n",
      "24 tensor(0.6481)\n",
      "25 tensor(0.6478)\n",
      "26 tensor(0.6475)\n",
      "27 tensor(0.6473)\n",
      "28 tensor(0.6471)\n",
      "29 tensor(0.6469)\n",
      "30 tensor(0.6467)\n",
      "31 tensor(0.6465)\n",
      "32 tensor(0.6464)\n",
      "33 tensor(0.6462)\n",
      "34 tensor(0.6461)\n",
      "35 tensor(0.6460)\n",
      "36 tensor(0.6459)\n",
      "37 tensor(0.6458)\n",
      "38 tensor(0.6458)\n",
      "39 tensor(0.6457)\n",
      "40 tensor(0.6456)\n",
      "41 tensor(0.6456)\n",
      "42 tensor(0.6455)\n",
      "43 tensor(0.6455)\n",
      "44 tensor(0.6454)\n",
      "45 tensor(0.6454)\n",
      "46 tensor(0.6454)\n",
      "47 tensor(0.6453)\n",
      "48 tensor(0.6453)\n",
      "49 tensor(0.6453)\n",
      "50 tensor(0.6453)\n",
      "51 tensor(0.6452)\n",
      "52 tensor(0.6452)\n",
      "53 tensor(0.6452)\n",
      "54 tensor(0.6452)\n",
      "55 tensor(0.6452)\n",
      "56 tensor(0.6452)\n",
      "57 tensor(0.6452)\n",
      "58 tensor(0.6451)\n",
      "59 tensor(0.6451)\n",
      "60 tensor(0.6451)\n",
      "61 tensor(0.6451)\n",
      "62 tensor(0.6451)\n",
      "63 tensor(0.6451)\n",
      "64 tensor(0.6451)\n",
      "65 tensor(0.6451)\n",
      "66 tensor(0.6451)\n",
      "67 tensor(0.6451)\n",
      "68 tensor(0.6451)\n",
      "69 tensor(0.6451)\n",
      "70 tensor(0.6451)\n",
      "71 tensor(0.6451)\n",
      "72 tensor(0.6451)\n",
      "73 tensor(0.6451)\n",
      "74 tensor(0.6451)\n",
      "75 tensor(0.6451)\n",
      "76 tensor(0.6451)\n",
      "77 tensor(0.6451)\n",
      "78 tensor(0.6451)\n",
      "79 tensor(0.6451)\n",
      "80 tensor(0.6451)\n",
      "81 tensor(0.6451)\n",
      "82 tensor(0.6450)\n",
      "83 tensor(0.6450)\n",
      "84 tensor(0.6450)\n",
      "85 tensor(0.6450)\n",
      "86 tensor(0.6450)\n",
      "87 tensor(0.6450)\n",
      "88 tensor(0.6450)\n",
      "89 tensor(0.6450)\n",
      "90 tensor(0.6450)\n",
      "91 tensor(0.6450)\n",
      "92 tensor(0.6450)\n",
      "93 tensor(0.6450)\n",
      "94 tensor(0.6450)\n",
      "95 tensor(0.6450)\n",
      "96 tensor(0.6450)\n",
      "97 tensor(0.6450)\n",
      "98 tensor(0.6450)\n",
      "99 tensor(0.6450)\n"
     ]
    },
    {
     "name": "stderr",
     "output_type": "stream",
     "text": [
      "/usr/local/lib/python3.5/dist-packages/ipykernel_launcher.py:4: UserWarning: invalid index of a 0-dim tensor. This will be an error in PyTorch 0.5. Use tensor.item() to convert a 0-dim tensor to a Python number\n",
      "  after removing the cwd from sys.path.\n"
     ]
    }
   ],
   "source": [
    "for epoch in range(100):\n",
    "    y_pred = model(x_data)\n",
    "    loss = criterion(y_pred, y_data)\n",
    "    print(epoch, loss.data[0])\n",
    "    \n",
    "    optimizer.zero_grad()\n",
    "    loss.backward()\n",
    "    optimizer.step()"
   ]
  },
  {
   "cell_type": "code",
   "execution_count": null,
   "metadata": {},
   "outputs": [],
   "source": []
  }
 ],
 "metadata": {
  "kernelspec": {
   "display_name": "Python 3",
   "language": "python",
   "name": "python3"
  },
  "language_info": {
   "codemirror_mode": {
    "name": "ipython",
    "version": 3
   },
   "file_extension": ".py",
   "mimetype": "text/x-python",
   "name": "python",
   "nbconvert_exporter": "python",
   "pygments_lexer": "ipython3",
   "version": "3.5.2"
  }
 },
 "nbformat": 4,
 "nbformat_minor": 2
}
